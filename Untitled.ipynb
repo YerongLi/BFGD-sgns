{
 "cells": [
  {
   "cell_type": "code",
   "execution_count": 1,
   "metadata": {},
   "outputs": [
    {
     "name": "stderr",
     "output_type": "stream",
     "text": [
      "2018-06-29 17:40:02,877 : INFO : collecting all words and their counts\n",
      "2018-06-29 17:40:02,878 : INFO : PROGRESS: at sentence #0, processed 0 words, keeping 0 word types\n",
      "2018-06-29 17:40:02,879 : INFO : collected 3 word types from a corpus of 4 raw words and 2 sentences\n",
      "2018-06-29 17:40:02,879 : INFO : Loading a fresh vocabulary\n",
      "2018-06-29 17:40:02,880 : INFO : min_count=1 retains 3 unique words (100% of original 3, drops 0)\n",
      "2018-06-29 17:40:02,881 : INFO : min_count=1 leaves 4 word corpus (100% of original 4, drops 0)\n",
      "2018-06-29 17:40:02,882 : INFO : deleting the raw counts dictionary of 3 items\n",
      "2018-06-29 17:40:02,885 : INFO : sample=0.001 downsamples 3 most-common words\n",
      "2018-06-29 17:40:02,886 : INFO : downsampling leaves estimated 0 word corpus (5.7% of prior 4)\n",
      "2018-06-29 17:40:02,905 : INFO : estimated required memory for 3 words and 100 dimensions: 3900 bytes\n",
      "2018-06-29 17:40:02,906 : INFO : resetting layer weights\n",
      "2018-06-29 17:40:02,921 : INFO : training model with 3 workers on 3 vocabulary and 100 features, using sg=0 hs=0 sample=0.001 negative=5 window=5\n",
      "2018-06-29 17:40:02,925 : INFO : worker thread finished; awaiting finish of 2 more threads\n",
      "2018-06-29 17:40:02,925 : INFO : worker thread finished; awaiting finish of 1 more threads\n",
      "2018-06-29 17:40:02,926 : INFO : worker thread finished; awaiting finish of 0 more threads\n",
      "2018-06-29 17:40:02,926 : INFO : EPOCH - 1 : training on 4 raw words (0 effective words) took 0.0s, 0 effective words/s\n",
      "2018-06-29 17:40:02,928 : INFO : worker thread finished; awaiting finish of 2 more threads\n",
      "2018-06-29 17:40:02,929 : INFO : worker thread finished; awaiting finish of 1 more threads\n",
      "2018-06-29 17:40:02,929 : INFO : worker thread finished; awaiting finish of 0 more threads\n",
      "2018-06-29 17:40:02,931 : INFO : EPOCH - 2 : training on 4 raw words (0 effective words) took 0.0s, 0 effective words/s\n",
      "2018-06-29 17:40:02,934 : INFO : worker thread finished; awaiting finish of 2 more threads\n",
      "2018-06-29 17:40:02,934 : INFO : worker thread finished; awaiting finish of 1 more threads\n",
      "2018-06-29 17:40:02,935 : INFO : worker thread finished; awaiting finish of 0 more threads\n",
      "2018-06-29 17:40:02,936 : INFO : EPOCH - 3 : training on 4 raw words (1 effective words) took 0.0s, 436 effective words/s\n",
      "2018-06-29 17:40:02,937 : INFO : worker thread finished; awaiting finish of 2 more threads\n",
      "2018-06-29 17:40:02,938 : INFO : worker thread finished; awaiting finish of 1 more threads\n",
      "2018-06-29 17:40:02,939 : INFO : worker thread finished; awaiting finish of 0 more threads\n",
      "2018-06-29 17:40:02,940 : INFO : EPOCH - 4 : training on 4 raw words (0 effective words) took 0.0s, 0 effective words/s\n",
      "2018-06-29 17:40:02,943 : INFO : worker thread finished; awaiting finish of 2 more threads\n",
      "2018-06-29 17:40:02,945 : INFO : worker thread finished; awaiting finish of 1 more threads\n",
      "2018-06-29 17:40:02,946 : INFO : worker thread finished; awaiting finish of 0 more threads\n",
      "2018-06-29 17:40:02,947 : INFO : EPOCH - 5 : training on 4 raw words (0 effective words) took 0.0s, 0 effective words/s\n",
      "2018-06-29 17:40:02,948 : INFO : training on a 20 raw words (1 effective words) took 0.0s, 38 effective words/s\n",
      "2018-06-29 17:40:02,949 : WARNING : under 10 jobs per worker: consider setting a smaller `batch_words' for smoother alpha decay\n"
     ]
    }
   ],
   "source": [
    "# import modules & set up logging\n",
    "import gensim, logging\n",
    "logging.basicConfig(format='%(asctime)s : %(levelname)s : %(message)s', level=logging.INFO)\n",
    "\n",
    "sentences = [['first', 'sentence'], ['second', 'sentence']]\n",
    "# train word2vec on the two sentences\n",
    "model = gensim.models.Word2Vec(sentences, min_count=1)"
   ]
  }
 ],
 "metadata": {
  "kernelspec": {
   "display_name": "Python 3",
   "language": "python",
   "name": "python3"
  },
  "language_info": {
   "codemirror_mode": {
    "name": "ipython",
    "version": 3
   },
   "file_extension": ".py",
   "mimetype": "text/x-python",
   "name": "python",
   "nbconvert_exporter": "python",
   "pygments_lexer": "ipython3",
   "version": "3.6.4"
  }
 },
 "nbformat": 4,
 "nbformat_minor": 2
}
