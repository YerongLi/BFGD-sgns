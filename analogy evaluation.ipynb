{
 "cells": [
  {
   "cell_type": "code",
   "execution_count": 9,
   "metadata": {},
   "outputs": [
    {
     "name": "stdout",
     "output_type": "stream",
     "text": [
      "0.32251703119397634\n",
      "([0.32251703119397634], [0])\n",
      "--- 31.636999368667603 seconds ---\n"
     ]
    },
    {
     "data": {
      "image/png": "[encoded data removed]",
      "text/plain": [
       "<matplotlib.figure.Figure at 0x7f84881f60f0>"
      ]
     },
     "metadata": {},
     "output_type": "display_data"
    }
   ],
   "source": [
    "import numpy as np\n",
    "from sklearn.metrics import pairwise_distances\n",
    "import time\n",
    "from util.word2vec_as_MF import Word2vecMF\n",
    "from util.functions import *\n",
    "from util.visualize import *\n",
    "start_time = time.time()\n",
    "def nearest_neighbors(model, W, word, exclude=[], metric=\"cosine\"):\n",
    "    #print(model.W.T.shape, 'model.W.T.shape')\n",
    "    #print(word.reshape(1, -1).shape, 'word.reshape(1, -1)')\n",
    "    D = word @ W\n",
    "    #print(D.shape, 'D.shape')\n",
    "    D[np.array(exclude)]=D.min()\n",
    "    '''for w in exclude:\n",
    "        D[w] = D.min()'''\n",
    "    #print(exclude)\n",
    "    #print(model.inv_vocab[D.argmin(axis=0)[0]])\n",
    "    return D.argmax(axis=0)\n",
    "        \n",
    "def analogy_score(from_folder, index, evalX):\n",
    "    from_folder='enwik-200/'+from_folder\n",
    "    \n",
    "    model =  Word2vecMF()\n",
    "    model.load_vocab(from_folder+'/vocab.txt')\n",
    "    vocab = model.vocab    \n",
    "    _, model.W = model.load_CW(from_folder, index)\n",
    "    normInv = np.array([1./n if n else 0. for n in np.linalg.norm(model.W, axis=0)])\n",
    "    #print(np.count_nonzero(normInv)/normInv.shape[0])\n",
    "    #W = model.W*normInv\n",
    "    W=model.W = model.W*normInv\n",
    "\n",
    "    predict = model.W.T[evalX[:,1]]-model.W.T[evalX[:,0]]+model.W.T[evalX[:,2]] # (:, dim)\n",
    "    \n",
    "    closest = np.array([nearest_neighbors(model, W, p, exclude=[evalX[i,0], evalX[i,1], evalX[i,2]])\n",
    "                        for i,p in enumerate(predict)])\n",
    "    \n",
    "    closest = closest.reshape(-1,)\n",
    "    #print(model.vocab[evalX[:,:]])\n",
    "    #eturn predict, (predict == evalX[:,3]).mean(), predict.shape, evalX[:,3].shape\n",
    "    #print(evalX[:,3].shape)\n",
    "    #print(closest.shape)\n",
    "    #print((closest == evalX[:,3]))\n",
    "    score =(closest == evalX[:,3]).mean()\n",
    "    print(score)\n",
    "    return score\n",
    "\n",
    "def analogy_dict(from_folder,MAX_ITER=100, plot_corrs=False):\n",
    "    model =  Word2vecMF()\n",
    "    model.load_vocab('enwik-200/'+from_folder+'/vocab.txt')\n",
    "    vocab = model.vocab\n",
    "    #model.C, model.W = model.load_CW('enwik-200/'+from_folder, 20)\n",
    "    X = []\n",
    "    #with open('benchmark/syntactic-words.txt') as fil   \n",
    "    #with open('benchmark/EN-GOOGLE.txt') as file:\n",
    "    with open('benchmark/semantic-words.txt') as file:\n",
    "        count =0\n",
    "        for line in file:\n",
    "            tokens = line.split()\n",
    "            tokens = [tk.lower() for tk in tokens]\n",
    "            if tokens[0] in vocab and tokens[1] in vocab and tokens[2] in vocab and tokens[3] in vocab:\n",
    "                #print(tokens[0], tokens[1], tokens[2], tokens[3])\n",
    "                count=count+1\n",
    "                X.append([vocab[tokens[0]], vocab[tokens[1]], vocab[tokens[2]], vocab[tokens[3]]])\n",
    "                #word = model.W.T[vocab[tokens[1]]]-model.W.T[vocab[tokens[0]]]+model.W.T[vocab[tokens[2]]]\n",
    "                #print(model.inv_vocab[nearest_neighbors(model, word, exclude=[vocab[tokens[0]], vocab[tokens[1]], vocab[tokens[2]], vocab[tokens[3]]])])\n",
    "            #if count > 50:break\n",
    "        X=np.array(X)\n",
    "        #print(X.shape)\n",
    "        \n",
    "    filelist = glob.glob('enwik-200/'+from_folder+'/W*.npz')\n",
    "    steps = sorted([int(file.split('/')[-1][1:-4]) for file in filelist])\n",
    "    steps = [step for step in steps if step<MAX_ITER]\n",
    "    \n",
    "    analogy= [analogy_score(from_folder=datapath, index=step, evalX=X) for step in steps]\n",
    "    #print(steps, analogy)\n",
    "    plt.plot(steps, analogy)\n",
    "    \n",
    "    return analogy, steps \n",
    "  \n",
    "\n",
    "#label_list= {'BFGDiter_fromenwik9-sub0.000100SPPMI5_dim100_step2e-07_0.0': 'BFGD 1.0-8'}\n",
    "label_list= {'enwik9-sub0.001000SPPMI5_dim300': 'BFGD 1.0-8'}\n",
    "for datapath in label_list.keys():\n",
    "    print(analogy_dict(datapath, MAX_ITER=20))\n",
    "print(\"--- %s seconds ---\" % (time.time() - start_time))\n"
   ]
  }
 ],
 "metadata": {
  "kernelspec": {
   "display_name": "Python 3",
   "language": "python",
   "name": "python3"
  },
  "language_info": {
   "codemirror_mode": {
    "name": "ipython",
    "version": 3
   },
   "file_extension": ".py",
   "mimetype": "text/x-python",
   "name": "python",
   "nbconvert_exporter": "python",
   "pygments_lexer": "ipython3",
   "version": "3.6.4"
  }
 },
 "nbformat": 4,
 "nbformat_minor": 2
}
