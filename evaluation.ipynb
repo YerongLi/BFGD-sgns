{
 "cells": [
  {
   "cell_type": "code",
   "execution_count": 1,
   "metadata": {},
   "outputs": [
    {
     "name": "stdout",
     "output_type": "stream",
     "text": [
      "Please run:\n",
      "  python setup.py build_ext --inplace\n"
     ]
    }
   ],
   "source": [
    "%matplotlib inline\n",
    "%load_ext autoreload\n",
    "%autoreload 2\n",
    "import matplotlib.pyplot as plt\n",
    "from IPython import display\n",
    "\n",
    "import numpy as np\n",
    "import pandas as pd\n",
    "\n",
    "from numpy.linalg import norm, svd\n",
    "\n",
    "import itertools\n",
    "import pickle\n",
    "import math\n",
    "import re\n",
    "\n",
    "from bs4 import BeautifulSoup\n",
    "from nltk.corpus import stopwords\n",
    "from gensim.models import Word2Vec\n",
    "import logging\n",
    "\n",
    "from util.word2vec_as_MF import Word2vecMF\n",
    "from util.functions import *\n",
    "from util.visualize import *\n",
    "\n",
    "import time\n",
    "dimension = 100\n",
    "model =  Word2vecMF()\n",
    "dictionary = {'Evaluation':[],'BFGD':[],'RO':[], 'word2vec':[], 'number of pairs':[]}"
   ]
  },
  {
   "cell_type": "code",
   "execution_count": 47,
   "metadata": {},
   "outputs": [
    {
     "name": "stdout",
     "output_type": "stream",
     "text": [
      "Parsing sentences from training set\n"
     ]
    }
   ],
   "source": [
    "sentences=load(from_file='data/enwik8.txt')\n",
    "skip = Word2Vec(sentences, size=dimension, min_count=5)"
   ]
  },
  {
   "cell_type": "code",
   "execution_count": 48,
   "metadata": {},
   "outputs": [
    {
     "name": "stdout",
     "output_type": "stream",
     "text": [
      "datasets/men3000.csv\n",
      "0.5554766446712811 1301\n"
     ]
    }
   ],
   "source": [
    "Path = 'datasets/men3000.csv'\n",
    "print(Path)\n",
    "\n",
    "df = pd.read_csv(Path,header=None, delimiter=';');\n",
    "'''score1, _, _, chosen_pairs = correlation(model = model, benchmark = df, \n",
    "                                            from_folder='enwik-200/AMiter_fromPMM_D2_dim20_step1e-05_0.006',\n",
    "                                           index=934);\n",
    "print(score1, len(chosen_pairs))\n",
    "\n",
    "score2, _, _, chosen_pairs = correlation(model = model, benchmark = df,\n",
    "                                            from_folder='enwik-200/PSiter_fromSVD_dim20_step5e-05_0.0',\n",
    "                                           index=360000);\n",
    "print(score2, len(chosen_pairs))'''\n",
    "\n",
    "score3, _, _, chosen_pairs = corr_word2vec(skip ,df, model_vocab=model.vocab)\n",
    "print(score3, len(chosen_pairs))\n",
    "\n",
    "dictionary['Evaluation'].append(Path.split('/')[1].split('.')[0])\n",
    "'''dictionary['BFGD'].append(score1)\n",
    "dictionary['RO'].append(score2)'''\n",
    "dictionary['word2vec'].append(score3)\n",
    "dictionary['number of pairs'].append(len(chosen_pairs))"
   ]
  },
  {
   "cell_type": "code",
   "execution_count": null,
   "metadata": {},
   "outputs": [],
   "source": [
    "Path = 'datasets/verb143.csv'\n",
    "print(Path)\n",
    "\n",
    "df = pd.read_csv(Path,header=None, delimiter=';');\n",
    "score1, _, _, chosen_pairs = correlation(model = model, benchmark = df, \n",
    "                                            from_folder='enwik-200/AMiter_fromPMM_D2_dim20_step1e-05_0.006',\n",
    "                                           index=190000);\n",
    "print(score1, len(chosen_pairs))\n",
    "\n",
    "score2, _, _, chosen_pairs = correlation(model = model, benchmark = df,\n",
    "                                            from_folder='enwik-200/PSiter_fromSVD_dim20_step5e-05_0.0',\n",
    "                                           index=360000);\n",
    "print(score2, len(chosen_pairs))\n",
    "\n",
    "score3, _, _, chosen_pairs = corr_word2vec(skip ,df, model_vocab=model.vocab)\n",
    "print(score3, len(chosen_pairs))\n",
    "\n",
    "dictionary['Evaluation'].append(Path.split('/')[1].split('.')[0])\n",
    "dictionary['BFGD'].append(score1)\n",
    "dictionary['RO'].append(score2)\n",
    "dictionary['word2vec'].append(score3)\n",
    "dictionary['number of pairs'].append(len(chosen_pairs))"
   ]
  },
  {
   "cell_type": "code",
   "execution_count": 51,
   "metadata": {},
   "outputs": [
    {
     "name": "stdout",
     "output_type": "stream",
     "text": [
      "datasets/wordsim353.csv\n",
      "0.4967901223313615 253\n"
     ]
    }
   ],
   "source": [
    "Path = 'datasets/wordsim353.csv'\n",
    "print(Path)\n",
    "\n",
    "df = pd.read_csv(Path,header=None, delimiter=';');\n",
    "'''score1, _, _, chosen_pairs = correlation(model = model, benchmark = df, \n",
    "                                            from_folder='enwik-200/AMiter_fromPMM_D2_dim20_step1e-05_0.006',\n",
    "                                           index=190000);\n",
    "print(score1, len(chosen_pairs))\n",
    "\n",
    "score2, _, _, chosen_pairs = correlation(model = model, benchmark = df,\n",
    "                                            from_folder='enwik-200/PSiter_fromSVD_dim20_step5e-05_0.0',\n",
    "                                           index=360000);\n",
    "print(score2, len(chosen_pairs))'''\n",
    "\n",
    "score3, _, _, chosen_pairs = corr_word2vec(skip ,df, model_vocab=model.vocab)\n",
    "print(score3, len(chosen_pairs))\n",
    "\n",
    "dictionary['Evaluation'].append(Path.split('/')[1].split('.')[0])\n",
    "#dictionary['BFGD'].append(score1)\n",
    "#dictionary['RO'].append(score2)\n",
    "dictionary['word2vec'].append(score3)\n",
    "dictionary['number of pairs'].append(len(chosen_pairs))"
   ]
  },
  {
   "cell_type": "code",
   "execution_count": null,
   "metadata": {},
   "outputs": [],
   "source": [
    "Path = 'datasets/MTURK-771.csv'\n",
    "print(Path)\n",
    "\n",
    "df = pd.read_csv(Path,header=None, delimiter=',');\n",
    "score1, _, _, chosen_pairs = correlation(model = model, benchmark = df, \n",
    "                                            from_folder='enwik-200/AMiter_fromPMM_D2_dim20_step1e-05_0.006',\n",
    "                                           index=190000);\n",
    "print(score1, len(chosen_pairs))\n",
    "\n",
    "score2, _, _, chosen_pairs = correlation(model = model, benchmark = df,\n",
    "                                            from_folder='enwik-200/PSiter_fromSVD_dim20_step5e-05_0.0',\n",
    "                                           index=360000);\n",
    "print(score2, len(chosen_pairs))\n",
    "\n",
    "score3, _, _, chosen_pairs = corr_word2vec(skip ,df, model_vocab=model.vocab)\n",
    "print(score3, len(chosen_pairs))\n",
    "\n",
    "dictionary['Evaluation'].append(Path.split('/')[1].split('.')[0])\n",
    "dictionary['BFGD'].append(score1)\n",
    "dictionary['RO'].append(score2)\n",
    "dictionary['word2vec'].append(score3)\n",
    "dictionary['number of pairs'].append(len(chosen_pairs))"
   ]
  },
  {
   "cell_type": "code",
   "execution_count": null,
   "metadata": {},
   "outputs": [],
   "source": [
    "Path = 'datasets/mturk287.csv'\n",
    "print(Path)\n",
    "\n",
    "df = pd.read_csv(Path,header=None, delimiter=';');\n",
    "score1, _, _, chosen_pairs = correlation(model = model, benchmark = df, \n",
    "                                            from_folder='enwik-200/AMiter_fromPMM_D2_dim20_step1e-05_0.006',\n",
    "                                           index=190000);\n",
    "print(score1, len(chosen_pairs))\n",
    "\n",
    "score2, _, _, chosen_pairs = correlation(model = model, benchmark = df,\n",
    "                                            from_folder='enwik-200/PSiter_fromSVD_dim20_step5e-05_0.0',\n",
    "                                           index=360000);\n",
    "print(score2, len(chosen_pairs))\n",
    "\n",
    "score3, _, _, chosen_pairs = corr_word2vec(skip ,df, model_vocab=model.vocab)\n",
    "print(score3, len(chosen_pairs))\n",
    "\n",
    "dictionary['Evaluation'].append(Path.split('/')[1].split('.')[0])\n",
    "dictionary['BFGD'].append(score1)\n",
    "dictionary['RO'].append(score2)\n",
    "dictionary['word2vec'].append(score3)\n",
    "dictionary['number of pairs'].append(len(chosen_pairs))"
   ]
  },
  {
   "cell_type": "code",
   "execution_count": null,
   "metadata": {},
   "outputs": [],
   "source": [
    "Path = 'datasets/rw2034.csv'\n",
    "print(Path)\n",
    "\n",
    "df = pd.read_csv(Path,header=None, delimiter=';');\n",
    "'''score1, _, _, chosen_pairs = correlation(model = model, benchmark = df, \n",
    "                                            from_folder='enwik-200/AMiter_fromPMM_D2_dim20_step1e-05_0.006',\n",
    "                                           index=190000);\n",
    "print(score1, len(chosen_pairs))\n",
    "\n",
    "score2, _, _, chosen_pairs = correlation(model = model, benchmark = df,\n",
    "                                            from_folder='enwik-200/PSiter_fromSVD_dim20_step5e-05_0.0',\n",
    "                                           index=360000);\n",
    "print(score2, len(chosen_pairs))'''\n",
    "\n",
    "score3, _, _, chosen_pairs = corr_word2vec(skip ,df, model_vocab=model.vocab)\n",
    "print(score3, len(chosen_pairs))\n",
    "\n",
    "dictionary['Evaluation'].append(Path.split('/')[1].split('.')[0])\n",
    "'''dictionary['BFGD'].append(score1)\n",
    "dictionary['RO'].append(score2)'''\n",
    "dictionary['word2vec'].append(score3)\n",
    "dictionary['number of pairs'].append(len(chosen_pairs))"
   ]
  },
  {
   "cell_type": "code",
   "execution_count": null,
   "metadata": {},
   "outputs": [],
   "source": [
    "Path = 'datasets/simlex999.csv'\n",
    "print(Path)\n",
    "\n",
    "df = pd.read_csv(Path,header=None, delimiter=';');\n",
    "score1, _, _, chosen_pairs = correlation(model = model, benchmark = df, \n",
    "                                            from_folder='enwik-200/AMiter_fromPMM_D2_dim20_step1e-05_0.006',\n",
    "                                           index=190000);\n",
    "print(score1, len(chosen_pairs))\n",
    "\n",
    "score2, _, _, chosen_pairs = correlation(model = model, benchmark = df,\n",
    "                                            from_folder='enwik-200/PSiter_fromSVD_dim20_step5e-05_0.0',\n",
    "                                           index=360000);\n",
    "print(score2, len(chosen_pairs))\n",
    "\n",
    "score3, _, _, chosen_pairs = corr_word2vec(skip ,df, model_vocab=model.vocab)\n",
    "print(score3, len(chosen_pairs))\n",
    "\n",
    "dictionary['Evaluation'].append(Path.split('/')[1].split('.')[0])\n",
    "dictionary['BFGD'].append(score1)\n",
    "dictionary['RO'].append(score2)\n",
    "dictionary['word2vec'].append(score3)\n",
    "dictionary['number of pairs'].append(len(chosen_pairs))"
   ]
  },
  {
   "cell_type": "code",
   "execution_count": null,
   "metadata": {},
   "outputs": [],
   "source": [
    "df = pd.DataFrame(dictionary)\n",
    "cols = df.columns.tolist()\n",
    "j = cols.index('Evaluation')\n",
    "cols[0],cols[j]=cols[j], cols[0]\n",
    "j = cols.index('number of pairs')\n",
    "cols[-1],cols[j]=cols[j], cols[-1]\n",
    "df=df[cols]\n",
    "df.style"
   ]
  },
  {
   "cell_type": "markdown",
   "metadata": {},
   "source": [
    "enwik8"
   ]
  },
  {
   "cell_type": "code",
   "execution_count": null,
   "metadata": {},
   "outputs": [],
   "source": [
    "Path = 'datasets/verb143.csv'\n",
    "print(Path)\n",
    "\n",
    "df = pd.read_csv(Path,header=None, delimiter=';');\n",
    "score1, _, _, chosen_pairs = correlation(model = model, benchmark = df, \n",
    "                                            from_folder='enwik-200/AMiter_fromPMM_D2_dim20_step1e-05_0.006',\n",
    "                                           index=190000);\n",
    "print(score1, len(chosen_pairs))\n",
    "\n",
    "score2, _, _, chosen_pairs = correlation(model = model, benchmark = df,\n",
    "                                            from_folder='enwik-200/PSiter_fromSVD_dim20_step5e-05_0.0',\n",
    "                                           index=360000);\n",
    "print(score2, len(chosen_pairs))"
   ]
  },
  {
   "cell_type": "code",
   "execution_count": 8,
   "metadata": {},
   "outputs": [
    {
     "name": "stdout",
     "output_type": "stream",
     "text": [
      "benchmark/men3000.csv\n",
      "0.22409271337131392 2870\n"
     ]
    }
   ],
   "source": [
    "from util.visualize import *\n",
    "\n",
    "#Path = 'benchmark/simlex999.csv'\n",
    "Path = 'benchmark/men3000.csv'\n",
    "#Path = 'datasets/rw2034.csv'\n",
    "#Path = 'benchmark/wordsim353.csv'\n",
    "#Path = 'datasets/MTURK-771.csv'\n",
    "\n",
    "#datapath='enwik-200/BFGDiter_fromenwik8_dim100_step1e-07_0.0'\n",
    "#datapath='enwik-200/BFGDiter_fromenwik8_dim100_step1.49198074496e-08_0.0'\n",
    "#datapath='enwik-200/BFGDiter_fromenwik8_dense_dim100_step1e-07_0.0'\n",
    "#datapath='enwik-200/PSiter_fromenwik8_dim100_step1e-05_0.0'\n",
    "#datapath='enwik-200/PSiter_from9PMM_dim100_step5e-05_0.0'\n",
    "#datapath='enwik-200/BFGDiter_from8PMM_dim100_step2.59178322952e-08_0.0'\n",
    "#datapath='enwik-200/BFGDiter_from9PMM_dim100_step2.441114203507839e-09_0.0'\n",
    "#datapath='enwik-200/BFGDiter_from9X0_dim100_step2.441114203507839e-09_0.0'\n",
    "print(Path)\n",
    "\n",
    "model.vocab=model.load_vocab(datapath+'/vocab.txt')[1]\n",
    "\n",
    "score1, _, _, chosen_pairs = correlation(model=model, \n",
    "                                         benchmark = Path, \n",
    "                                         from_folder=datapath,\n",
    "                                         index=0)\n",
    "print(score1, len(chosen_pairs))"
   ]
  },
  {
   "cell_type": "code",
   "execution_count": 4,
   "metadata": {
    "scrolled": true
   },
   "outputs": [
    {
     "name": "stderr",
     "output_type": "stream",
     "text": [
      "/home/yerong/local/Anaconda3/lib/python3.6/site-packages/numpy/lib/function_base.py:3183: RuntimeWarning: invalid value encountered in true_divide\n",
      "  c /= stddev[:, None]\n",
      "/home/yerong/local/Anaconda3/lib/python3.6/site-packages/numpy/lib/function_base.py:3184: RuntimeWarning: invalid value encountered in true_divide\n",
      "  c /= stddev[None, :]\n",
      "/home/yerong/local/Anaconda3/lib/python3.6/site-packages/scipy/stats/_distn_infrastructure.py:879: RuntimeWarning: invalid value encountered in greater\n",
      "  return (self.a < x) & (x < self.b)\n",
      "/home/yerong/local/Anaconda3/lib/python3.6/site-packages/scipy/stats/_distn_infrastructure.py:879: RuntimeWarning: invalid value encountered in less\n",
      "  return (self.a < x) & (x < self.b)\n",
      "/home/yerong/local/Anaconda3/lib/python3.6/site-packages/scipy/stats/_distn_infrastructure.py:1818: RuntimeWarning: invalid value encountered in less_equal\n",
      "  cond2 = cond0 & (x <= self.a)\n"
     ]
    },
    {
     "name": "stdout",
     "output_type": "stream",
     "text": [
      "CPU times: user 4.49 s, sys: 869 ms, total: 5.36 s\n",
      "Wall time: 3.25 s\n"
     ]
    },
    {
     "data": {
      "image/png": "[encoded data removed]",
      "text/plain": [
       "<matplotlib.figure.Figure at 0x7fdbff65d7f0>"
      ]
     },
     "metadata": {},
     "output_type": "display_data"
    }
   ],
   "source": [
    "%%time\n",
    "%matplotlib inline\n",
    "#datapath='enwik-200/BFGDiter_fromenwik8_dense_dim100_step1e-07_0.0'\n",
    "#datapath='enwik-200/PSiter_fromenwik8_dim100_step1e-05_0.0'\n",
    "#datapath='enwik-200/PSiter_fromenwik8PMM_dim100_step1e-05_0.0'\n",
    "#datapath='enwik-200/PSiter_from9X0_dim100_step5e-05_0.0'\n",
    "#datapath='enwik-200/BFGDiter_from8PMM_dim100_step2.59178322952e-08_0.0'\n",
    "#datapath='enwik-200/BFGDiter_from8X0_dim100_step2.59178322952e-08_0.0'\n",
    "#datapath= 'enwik-200/PSiter_from9PPM_dim100_step1e-05_0.0'\n",
    "datapath= 'enwik-200/PS10iter_fromSVD_dim100_step5e-05_factors/'\n",
    "#datapath='enwik-200/BFGDiter_from9X0_dim100_step2.441114203507839e-09_0.0'\n",
    "\n",
    "#datapath='enwik-200/PSiter_from9PMM_dim100_step5e-05_0.0'\n",
    "corr_dict=datasets_corr(from_folder=datapath, \n",
    "              MAX_ITER=500,plot_corrs=True);"
   ]
  },
  {
   "cell_type": "code",
   "execution_count": 15,
   "metadata": {},
   "outputs": [
    {
     "name": "stdout",
     "output_type": "stream",
     "text": [
      "{'wordsim_sim': 0.51533, 'wordsim_rel': 0.27384, 'wordsim353': 0.41857, 'men3000': 0.22234, 'simlex999': 0.15102, 'rw2034': 0.26647, 'MTURK-771': 0.17719, 'rg65': 0.34191, 'verb143': 0.19936, 'mturk287': 0.27076, 'mc30': 0.43218}\n"
     ]
    }
   ],
   "source": [
    "max_dict= {benchmark: round(max(corr_dict[benchmark][1][2:]),5)for benchmark in corr_dict}\n",
    "print(max_dict)"
   ]
  },
  {
   "cell_type": "code",
   "execution_count": 40,
   "metadata": {},
   "outputs": [],
   "source": [
    "back={'wordsim_sim': 0.5083153291574576, 'wordsim_rel': 0.23051270181633066, 'wordsim353': 0.38721725196622725, 'men3000': 0.317088733602483, 'simlex999': 0.12770957277481088, 'rw2034': 0.3061656575652792, 'MTURK-771': 0.16602987279673054, 'rg65': 0.3058823529411765, 'verb143': 0.2739890953353197, 'mturk287': 0.351643421163816, 'mc30': 0.5}\n"
   ]
  },
  {
   "cell_type": "code",
   "execution_count": 46,
   "metadata": {},
   "outputs": [
    {
     "name": "stdout",
     "output_type": "stream",
     "text": [
      "{'wordsim_sim': 0.50832, 'wordsim_rel': 0.23051, 'wordsim353': 0.38722, 'men3000': 0.31709, 'simlex999': 0.12771, 'rw2034': 0.30617, 'MTURK-771': 0.16603, 'rg65': 0.30588, 'verb143': 0.27399, 'mturk287': 0.35164, 'mc30': 0.5}\n"
     ]
    }
   ],
   "source": [
    "print({b: round(back[b],5)for b in back})"
   ]
  },
  {
   "cell_type": "code",
   "execution_count": 25,
   "metadata": {},
   "outputs": [
    {
     "data": {
      "text/plain": [
       "<matplotlib.text.Text at 0x7f4b95dc7208>"
      ]
     },
     "execution_count": 25,
     "metadata": {},
     "output_type": "execute_result"
    },
    {
     "data": {
      "image/png": "[encoded data removed]",
      "text/plain": [
       "<matplotlib.figure.Figure at 0x7f4b95ead400>"
      ]
     },
     "metadata": {},
     "output_type": "display_data"
    }
   ],
   "source": [
    "fig, ax = plt.subplots(nrows=3, ncols=3, sharex=True, sharey=True, figsize=(10, 10))\n",
    "\n",
    "fig.text(0.5, 0.04, 'common X', ha='center')\n",
    "fig.text(0.04, 0.5, 'common Y', va='center', rotation='vertical')"
   ]
  }
 ],
 "metadata": {
  "kernelspec": {
   "display_name": "Python 3",
   "language": "python",
   "name": "python3"
  },
  "language_info": {
   "codemirror_mode": {
    "name": "ipython",
    "version": 3
   },
   "file_extension": ".py",
   "mimetype": "text/x-python",
   "name": "python",
   "nbconvert_exporter": "python",
   "pygments_lexer": "ipython3",
   "version": "3.6.4"
  }
 },
 "nbformat": 4,
 "nbformat_minor": 2
}
