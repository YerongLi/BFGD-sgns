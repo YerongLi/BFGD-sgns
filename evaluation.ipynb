{
 "cells": [
  {
   "cell_type": "code",
   "execution_count": 9,
   "metadata": {},
   "outputs": [],
   "source": [
    "%matplotlib inline\n",
    "%load_ext autoreload\n",
    "%autoreload 2\n",
    "import matplotlib.pyplot as plt\n",
    "from IPython import display\n",
    "\n",
    "import numpy as np\n",
    "import pandas as pd\n",
    "from scipy.sparse.linalg import svds\n",
    "from numpy.linalg import norm, svd\n",
    "\n",
    "import itertools\n",
    "import pickle\n",
    "import math\n",
    "import re\n",
    "\n",
    "from bs4 import BeautifulSoup\n",
    "from nltk.corpus import stopwords\n",
    "from gensim.models import word2vec, Word2Vec\n",
    "import logging\n",
    "\n",
    "from word2vec_as_MF import Word2vecMF\n",
    "from functions import *\n",
    "\n",
    "import time\n",
    "dimension = 20\n",
    "model =  Word2vecMF()"
   ]
  },
  {
   "cell_type": "code",
   "execution_count": 31,
   "metadata": {},
   "outputs": [
    {
     "name": "stdout",
     "output_type": "stream",
     "text": [
      "datasets/men3000.csv\n",
      "[0.20834729] 60\n",
      "[0.05638974] 60\n"
     ]
    }
   ],
   "source": [
    "Path = 'datasets/men3000.csv'\n",
    "print(Path)\n",
    "model.load_matrices(from_file='enwik-200/matrices2.npz');\n",
    "df = pd.read_csv(Path,header=None, delimiter=';');\n",
    "score, _, _, chosen_pairs = corr_experiment(model = model, data = df, \n",
    "                                            from_folder='enwik-200/AMiter_fromPMM_D2_dim20_step1e-05_0.006',\n",
    "                                           ITER=[190000]);\n",
    "print(score, len(chosen_pairs))\n",
    "\n",
    "score, _, _, chosen_pairs = corr_experiment(model = model, data = df,\n",
    "                                            from_folder='enwik-200/PSiter_fromSVD_dim20_step5e-05_0.0',\n",
    "                                           ITER=[360000]);\n",
    "print(score, len(chosen_pairs))"
   ]
  },
  {
   "cell_type": "code",
   "execution_count": 35,
   "metadata": {},
   "outputs": [
    {
     "name": "stdout",
     "output_type": "stream",
     "text": [
      "datasets/MTURK-771.csv\n",
      "[0.40262635] 30\n",
      "[0.32472739] 30\n"
     ]
    }
   ],
   "source": [
    "Path = 'datasets/MTURK-771.csv'\n",
    "print(Path)\n",
    "model.load_matrices(from_file='enwik-200/matrices2.npz');\n",
    "df = pd.read_csv(Path,header=None, delimiter=',');\n",
    "score, _, _, chosen_pairs = corr_experiment(model = model, data = df, \n",
    "                                            from_folder='enwik-200/AMiter_fromPMM_D2_dim20_step1e-05_0.006',\n",
    "                                           ITER=[190000]);\n",
    "print(score, len(chosen_pairs))\n",
    "\n",
    "score, _, _, chosen_pairs = corr_experiment(model = model, data = df,\n",
    "                                            from_folder='enwik-200/PSiter_fromSVD_dim20_step5e-05_0.0',\n",
    "                                           ITER=[360000]);\n",
    "print(score, len(chosen_pairs))"
   ]
  },
  {
   "cell_type": "code",
   "execution_count": 39,
   "metadata": {},
   "outputs": [
    {
     "name": "stdout",
     "output_type": "stream",
     "text": [
      "datasets/mturk287.csv\n",
      "[0.36969697] 10\n",
      "[0.49090909] 10\n"
     ]
    }
   ],
   "source": [
    "Path = 'datasets/mturk287.csv'\n",
    "print(Path)\n",
    "model.load_matrices(from_file='enwik-200/matrices2.npz');\n",
    "df = pd.read_csv(Path,header=None, delimiter=';');\n",
    "score, _, _, chosen_pairs = corr_experiment(model = model, data = df, \n",
    "                                            from_folder='enwik-200/AMiter_fromPMM_D2_dim20_step1e-05_0.006',\n",
    "                                           ITER=[190000]);\n",
    "print(score, len(chosen_pairs))\n",
    "\n",
    "score, _, _, chosen_pairs = corr_experiment(model = model, data = df,\n",
    "                                            from_folder='enwik-200/PSiter_fromSVD_dim20_step5e-05_0.0',\n",
    "                                           ITER=[360000]);\n",
    "print(score, len(chosen_pairs))"
   ]
  },
  {
   "cell_type": "code",
   "execution_count": 45,
   "metadata": {},
   "outputs": [
    {
     "name": "stdout",
     "output_type": "stream",
     "text": [
      "datasets/rw2034.csv\n",
      "pc (934,)\n",
      "[1.] 3\n",
      "pc (934,)\n",
      "[[7.45675758 5.11048259 5.15876737]]\n",
      "[0.5] 3\n"
     ]
    }
   ],
   "source": [
    "Path = 'datasets/rw2034.csv'\n",
    "print(Path)\n",
    "model.load_matrices(from_file='enwik-200/matrices2.npz');\n",
    "df = pd.read_csv(Path,header=None, delimiter=';');\n",
    "score, _, _, chosen_pairs = corr_experiment(model = model, data = df, \n",
    "                                            from_folder='enwik-200/AMiter_fromPMM_D2_dim20_step1e-05_0.006',\n",
    "                                           ITER=[190000]);\n",
    "print(score, len(chosen_pairs))\n",
    "\n",
    "score, vecs, _, chosen_pairs = corr_experiment(model = model, data = df,\n",
    "                                            from_folder='enwik-200/PSiter_fromSVD_dim20_step5e-05_0.0',\n",
    "                                           ITER=[360000]);\n",
    "print(vecs)\n",
    "print(score, len(chosen_pairs))"
   ]
  },
  {
   "cell_type": "code",
   "execution_count": 41,
   "metadata": {},
   "outputs": [
    {
     "name": "stdout",
     "output_type": "stream",
     "text": [
      "datasets/simlex999.csv\n",
      "[-0.04854133] 42\n",
      "[-0.20640195] 42\n"
     ]
    }
   ],
   "source": [
    "Path = 'datasets/simlex999.csv'\n",
    "print(Path)\n",
    "model.load_matrices(from_file='enwik-200/matrices2.npz');\n",
    "df = pd.read_csv(Path,header=None, delimiter=';');\n",
    "score, _, _, chosen_pairs = corr_experiment(model = model, data = df, \n",
    "                                            from_folder='enwik-200/AMiter_fromPMM_D2_dim20_step1e-05_0.006',\n",
    "                                           ITER=[190000]);\n",
    "print(score, len(chosen_pairs))\n",
    "\n",
    "score, _, _, chosen_pairs = corr_experiment(model = model, data = df,\n",
    "                                            from_folder='enwik-200/PSiter_fromSVD_dim20_step5e-05_0.0',\n",
    "                                           ITER=[360000]);\n",
    "print(score, len(chosen_pairs))"
   ]
  }
 ],
 "metadata": {
  "kernelspec": {
   "display_name": "Python 3",
   "language": "python",
   "name": "python3"
  },
  "language_info": {
   "codemirror_mode": {
    "name": "ipython",
    "version": 3
   },
   "file_extension": ".py",
   "mimetype": "text/x-python",
   "name": "python",
   "nbconvert_exporter": "python",
   "pygments_lexer": "ipython3",
   "version": "3.6.4"
  }
 },
 "nbformat": 4,
 "nbformat_minor": 2
}
