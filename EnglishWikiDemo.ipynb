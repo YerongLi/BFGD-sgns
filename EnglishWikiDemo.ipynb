{
 "cells": [
  {
   "cell_type": "code",
   "execution_count": 1,
   "metadata": {},
   "outputs": [
    {
     "name": "stdout",
     "output_type": "stream",
     "text": [
      "Please run:\n",
      "  python setup.py build_ext --inplace\n"
     ]
    }
   ],
   "source": [
    "%matplotlib inline\n",
    "%load_ext autoreload\n",
    "%autoreload 2\n",
    "\n",
    "# Math libraries\n",
    "import numpy as np\n",
    "from scipy.sparse.linalg import svds\n",
    "from numpy.linalg import norm, svd\n",
    "\n",
    "# Library for iterations\n",
    "import itertools\n",
    "\n",
    "# Basic library for math functions\n",
    "import math\n",
    "\n",
    "# Library for regular expressions\n",
    "import re\n",
    "\n",
    "# Libraries designed for this task - see /util\n",
    "from util.word2vec_as_MF import Word2vecMF\n",
    "from util.functions import *\n",
    "\n",
    "# Library for timing\n",
    "import time"
   ]
  },
  {
   "cell_type": "code",
   "execution_count": 2,
   "metadata": {},
   "outputs": [],
   "source": [
    "# Problem parameters\n",
    "d = 300       # Inner dimension (low-rank) of matrices\n",
    "rho = 0.0     # Regularization parameter: rho * ||W W' - C C'||_F^2\n",
    "k = 10        # Negative sampling parameter"
   ]
  },
  {
   "cell_type": "code",
   "execution_count": 3,
   "metadata": {},
   "outputs": [
    {
     "name": "stdout",
     "output_type": "stream",
     "text": [
      "Parsing sentences from training set\n",
      "No NaNs in D\n",
      "No NaNs in B\n",
      "No Infs in D.\n",
      "No Infs in B.\n",
      "np.nan_to_num() is not used in SPPMI.\n",
      "30772.52560507925\n"
     ]
    },
    {
     "name": "stderr",
     "output_type": "stream",
     "text": [
      "/anaconda3/lib/python3.6/site-packages/ipykernel_launcher.py:21: RuntimeWarning: divide by zero encountered in log\n",
      "/anaconda3/lib/python3.6/site-packages/ipykernel_launcher.py:22: RuntimeWarning: divide by zero encountered in log\n"
     ]
    }
   ],
   "source": [
    "# Generate class instance to load data\n",
    "model_enwik = Word2vecMF()        # Creates object\n",
    "\n",
    "# Load data\n",
    "model_enwik.data_to_matrices('data/x1', \n",
    "                             r = 50, \n",
    "                             k = k, \n",
    "                             DB_to_file = False,\n",
    "                             vocab_to_file = False)\n",
    "\n",
    "if np.argwhere(np.isnan(model_enwik.D)).size == 0:\n",
    "    print('No NaNs in D')\n",
    "if np.argwhere(np.isnan(model_enwik.B)).size == 0:\n",
    "    print('No NaNs in B')\n",
    "    \n",
    "if np.argwhere(np.isinf(model_enwik.D)).size == 0:\n",
    "    print('No Infs in D.')\n",
    "if np.argwhere(np.isinf(model_enwik.B)).size == 0:\n",
    "    print('No Infs in B.')\n",
    "\n",
    "SPPMI = np.maximum(np.nan_to_num(np.log(model_enwik.D) - np.log(model_enwik.B)), 0)\n",
    "SPPMI2 = np.maximum(np.log(model_enwik.D) - np.log(model_enwik.B), 0)\n",
    "if np.array_equal(SPPMI, SPPMI2):\n",
    "    print('np.nan_to_num() is not used in SPPMI.')    "
   ]
  },
  {
   "cell_type": "code",
   "execution_count": 4,
   "metadata": {},
   "outputs": [
    {
     "name": "stderr",
     "output_type": "stream",
     "text": [
      "/anaconda3/lib/python3.6/site-packages/ipykernel_launcher.py:2: RuntimeWarning: divide by zero encountered in log\n",
      "  \n"
     ]
    },
    {
     "name": "stdout",
     "output_type": "stream",
     "text": [
      "0.027206866973066266\n",
      "115.71293390302307\n",
      "('Initial loss', 4473009.696893112, 'theoretical step size', None)\n",
      "Dimension of C0:  (300, 823)\n",
      "Dimension of W0:  (300, 823)\n",
      "hello there\n",
      "('Initial loss', 4666204.253151528, 'theoretical step size', 4.849237969563645e-07)\n"
     ]
    }
   ],
   "source": [
    "# Generate specific initializations\n",
    "C0_SPPMI, W0_SPPMI, step_size = SPPMI_init(model_enwik, dimension = d, negative = k)\n",
    "\n",
    "print('Dimension of C0: ', C0_SPPMI.shape)\n",
    "print('Dimension of W0: ', W0_SPPMI.shape)\n",
    "\n",
    "C0_BFGD, W0_BFGD, step_size = BFGD_init(model_enwik, dimension = d, reg = rho, calculate_step = True)"
   ]
  },
  {
   "cell_type": "code",
   "execution_count": 5,
   "metadata": {},
   "outputs": [
    {
     "name": "stdout",
     "output_type": "stream",
     "text": [
      "enwik-200/BFGDiter_fromtest_dim300_step1e-05_0.0\n",
      "('Iter #:', 0, 'loss', 4666204.253151528)\n",
      "('Iter #:', 100, 'loss', 2047860.6739421804)\n",
      "('Iter #:', 200, 'loss', 1856487.4365483103)\n",
      "('Iter #:', 300, 'loss', 1799501.1949033055)\n",
      "('Iter #:', 400, 'loss', 1772826.5493207132)\n",
      "('Iter #:', 500, 'loss', 1757552.191833937)\n",
      "('Iter #:', 600, 'loss', 1747513.2203865629)\n",
      "('Iter #:', 700, 'loss', 1739978.6701471142)\n",
      "('Iter #:', 800, 'loss', 1733916.1004861847)\n",
      "('Iter #:', 900, 'loss', 1730848.7153326385)\n",
      "('Iter #:', 1000, 'loss', 1725910.3420607678)\n",
      "--- 31.544533014297485 seconds ---\n"
     ]
    }
   ],
   "source": [
    "# Run BFGD - Our initialization, user-defined step size 1e-5, rho is zero\n",
    "start_time = time.time()\n",
    "\n",
    "opt_experiment(model_enwik,            # Load model\n",
    "               mode = 'BFGD',          # Mode = 'BFGD'\n",
    "               d = d,                  # Inner dimension\n",
    "               eta = 1e-5,             # Step size\n",
    "               #eta = step_size,\n",
    "               reg = rho,              # Regularization parameter\n",
    "               MAX_ITER = 1000,        # Max. number of iterations\n",
    "               from_iter = 0,          # Start from iteration 0 (i.e., don't load any unfinished jobs)\n",
    "               start_from = 'test',    # ??\n",
    "               itv_print = 100,          # ??\n",
    "               itv_save = 100000,      # ??\n",
    "               init = (True, C0_BFGD, W0_BFGD),  # Initialization\n",
    "               display = True,         # Display results\n",
    "               autostop = False)\n",
    "\n",
    "print(\"--- %s seconds ---\" % (time.time() - start_time))"
   ]
  },
  {
   "cell_type": "code",
   "execution_count": 6,
   "metadata": {},
   "outputs": [
    {
     "name": "stdout",
     "output_type": "stream",
     "text": [
      "enwik-200/BFGDiter_fromtest_dim300_step4.923674238056453e-09_0.0\n",
      "('Iter #:', 0, 'loss', 3959916.1376499464)\n",
      "('Iter #:', 100, 'loss', 3952781.1796068856)\n",
      "('Iter #:', 200, 'loss', 3945761.245044749)\n",
      "('Iter #:', 300, 'loss', 3938853.3110885546)\n",
      "('Iter #:', 400, 'loss', 3932054.456434045)\n",
      "('Iter #:', 500, 'loss', 3925361.8551674276)\n",
      "('Iter #:', 600, 'loss', 3918772.771270943)\n",
      "('Iter #:', 700, 'loss', 3912284.5537536344)\n",
      "('Iter #:', 800, 'loss', 3905894.632345954)\n",
      "('Iter #:', 900, 'loss', 3899600.5136977197)\n",
      "('Iter #:', 1000, 'loss', 3893399.7780208085)\n",
      "--- 32.98883676528931 seconds ---\n"
     ]
    }
   ],
   "source": [
    "# Run BFGD - Our initialization, our step size, rho is zero\n",
    "start_time = time.time()\n",
    "\n",
    "opt_experiment(model_enwik,            # Load model\n",
    "               mode = 'BFGD',          # Mode = 'BFGD'\n",
    "               d = d,                  # Inner dimension\n",
    "               eta = step_size,        # Step size\n",
    "               reg = rho,              # Regularization parameter\n",
    "               MAX_ITER = 1000,        # Max. number of iterations\n",
    "               from_iter = 0,          # Start from iteration 0 (i.e., don't load any unfinished jobs)\n",
    "               start_from = 'test',    # ??\n",
    "               itv_print = 100,        # ??\n",
    "               itv_save = 100000,      # ??\n",
    "               init = (True, C0_BFGD, W0_BFGD),  # Initialization\n",
    "               display = True,         # Display results\n",
    "               autostop = False)\n",
    "\n",
    "print(\"--- %s seconds ---\" % (time.time() - start_time))"
   ]
  },
  {
   "cell_type": "code",
   "execution_count": 7,
   "metadata": {},
   "outputs": [
    {
     "name": "stdout",
     "output_type": "stream",
     "text": [
      "enwik-200/BFGDiter_fromtest_dim300_step1e-05_0.0\n",
      "('Iter #:', 0, 'loss', 4473009.696893112)\n",
      "('Iter #:', 100, 'loss', 2113858.3720422033)\n",
      "('Iter #:', 200, 'loss', 1910045.4327186688)\n",
      "('Iter #:', 300, 'loss', 1833808.0433454078)\n",
      "('Iter #:', 400, 'loss', 1792505.875537711)\n",
      "('Iter #:', 500, 'loss', 1767575.777827814)\n",
      "('Iter #:', 600, 'loss', 1751147.3684291001)\n",
      "('Iter #:', 700, 'loss', 1739154.5176801584)\n",
      "('Iter #:', 800, 'loss', 1730593.6998784845)\n",
      "('Iter #:', 900, 'loss', 1722726.968755842)\n",
      "('Iter #:', 1000, 'loss', 1716183.3658050634)\n",
      "--- 33.359684228897095 seconds ---\n"
     ]
    }
   ],
   "source": [
    "# Run BFGD - SPPMI initialization, user-defined step size 1e-5, rho is zero\n",
    "start_time = time.time()\n",
    "\n",
    "opt_experiment(model_enwik,            # Load model\n",
    "               mode = 'BFGD',          # Mode = 'BFGD'\n",
    "               d = d,                  # Inner dimension\n",
    "               eta = 1e-5,             # Step size\n",
    "               #eta = step_size,\n",
    "               reg = rho,              # Regularization parameter\n",
    "               MAX_ITER = 1000,        # Max. number of iterations\n",
    "               from_iter = 0,          # Start from iteration 0 (i.e., don't load any unfinished jobs)\n",
    "               start_from = 'test',    # ??\n",
    "               itv_print = 100,        # ??\n",
    "               itv_save = 100000,      # ??\n",
    "               init = (True, C0_SPPMI, W0_SPPMI),  # Initialization\n",
    "               display = True,         # Display results\n",
    "               autostop = False)\n",
    "\n",
    "print(\"--- %s seconds ---\" % (time.time() - start_time))"
   ]
  },
  {
   "cell_type": "code",
   "execution_count": 35,
   "metadata": {},
   "outputs": [
    {
     "name": "stdout",
     "output_type": "stream",
     "text": [
      "enwik-200/BFGDiter_fromtest_dim300_step4.6260178076223814e-07_0.0\n",
      "('Iter #:', 0, 'loss', 4473009.696893112)\n",
      "('Iter #:', 100, 'loss', 4440258.094397495)\n",
      "('Iter #:', 200, 'loss', 3988010.134604834)\n",
      "('Iter #:', 300, 'loss', 3549726.4725704193)\n",
      "('Iter #:', 400, 'loss', 3274235.945186249)\n",
      "('Iter #:', 500, 'loss', 3072919.244226388)\n",
      "('Iter #:', 600, 'loss', 2917173.0964144054)\n",
      "('Iter #:', 700, 'loss', 2791364.723934947)\n",
      "('Iter #:', 800, 'loss', 2686535.1442358517)\n",
      "('Iter #:', 900, 'loss', 2596590.560600534)\n",
      "('Iter #:', 1000, 'loss', 2517627.1307845498)\n",
      "--- 36.38679075241089 seconds ---\n"
     ]
    }
   ],
   "source": [
    "# Run BFGD - SPPMI initialization, our step size, rho is zero\n",
    "start_time = time.time()\n",
    "\n",
    "opt_experiment(model_enwik,            # Load model\n",
    "               mode = 'BFGD',          # Mode = 'BFGD'\n",
    "               d = d,                  # Inner dimension\n",
    "               eta = step_size,        # Step size\n",
    "               reg = rho,              # Regularization parameter\n",
    "               MAX_ITER = 1000,        # Max. number of iterations\n",
    "               from_iter = 0,          # Start from iteration 0 (i.e., don't load any unfinished jobs)\n",
    "               start_from = 'test',    # ??\n",
    "               itv_print = 100,        # ??\n",
    "               itv_save = 100000,      # ??\n",
    "               init = (True, C0_SPPMI, W0_SPPMI),  # Initialization\n",
    "               display = True,         # Display results\n",
    "               autostop = False)\n",
    "\n",
    "print(\"--- %s seconds ---\" % (time.time() - start_time))"
   ]
  },
  {
   "cell_type": "code",
   "execution_count": null,
   "metadata": {},
   "outputs": [],
   "source": []
  }
 ],
 "metadata": {
  "kernelspec": {
   "display_name": "Python 3",
   "language": "python",
   "name": "python3"
  },
  "language_info": {
   "codemirror_mode": {
    "name": "ipython",
    "version": 3
   },
   "file_extension": ".py",
   "mimetype": "text/x-python",
   "name": "python",
   "nbconvert_exporter": "python",
   "pygments_lexer": "ipython3",
   "version": "3.6.5"
  }
 },
 "nbformat": 4,
 "nbformat_minor": 2
}
